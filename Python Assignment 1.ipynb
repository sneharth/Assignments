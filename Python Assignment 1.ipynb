{
 "cells": [
  {
   "cell_type": "markdown",
   "metadata": {},
   "source": [
    "### Write a program which will find all such numbers which are divisible by 7 but are not a multiple of 5, between 2000 and 3200 (both included). The numbers obtained should be printed in a comma-separated sequence on a single line."
   ]
  },
  {
   "cell_type": "code",
   "execution_count": 1,
   "metadata": {
    "scrolled": true
   },
   "outputs": [
    {
     "name": "stdout",
     "output_type": "stream",
     "text": [
      "2008,2016,2024,2032,2048,2056,2064,2072,2088,2096,2104,2112,2128,2136,2144,2152,2168,2176,2184,2192,2208,2216,2224,2232,2248,2256,2264,2272,2288,2296,2304,2312,2328,2336,2344,2352,2368,2376,2384,2392,2408,2416,2424,2432,2448,2456,2464,2472,2488,2496,2504,2512,2528,2536,2544,2552,2568,2576,2584,2592,2608,2616,2624,2632,2648,2656,2664,2672,2688,2696,2704,2712,2728,2736,2744,2752,2768,2776,2784,2792,2808,2816,2824,2832,2848,2856,2864,2872,2888,2896,2904,2912,2928,2936,2944,2952,2968,2976,2984,2992,3008,3016,3024,3032,3048,3056,3064,3072,3088,3096,3104,3112,3128,3136,3144,3152,3168,3176,3184,3192\n"
     ]
    }
   ],
   "source": [
    "l = [ num for num in range ( 2000 , 3201 ) if num & 7 == 0 and num % 5 != 0 ]\n",
    "s = \"\"\n",
    "for i in l:\n",
    "    if i != l [ -1 ]:\n",
    "        s = s + str ( i ) + \",\"\n",
    "    else:\n",
    "        s = s + str ( i )\n",
    "print ( s ) "
   ]
  },
  {
   "cell_type": "markdown",
   "metadata": {},
   "source": [
    "###  Write a Python program to accept the user's first and last name and then getting them printed in the the reverse order with a space between first name and last name."
   ]
  },
  {
   "cell_type": "code",
   "execution_count": 9,
   "metadata": {},
   "outputs": [
    {
     "name": "stdout",
     "output_type": "stream",
     "text": [
      "Enter your first name: Dave\n",
      "Enter your last name: Lee\n",
      "evaD eeL\n"
     ]
    }
   ],
   "source": [
    "first_name = str ( input ( \"Enter your first name: \" ) )\n",
    "last_name = str ( input ( \"Enter your last name: \" ) )\n",
    "print ( first_name [ : : -1 ] + \" \" + last_name [ : : -1 ] )"
   ]
  },
  {
   "cell_type": "markdown",
   "metadata": {},
   "source": [
    "### Write a Python program to find the volume of a sphere with diameter 12 cm. Formula: V=4/3 * π * r 3"
   ]
  },
  {
   "cell_type": "code",
   "execution_count": 15,
   "metadata": {},
   "outputs": [
    {
     "name": "stdout",
     "output_type": "stream",
     "text": [
      "Enter the diameter: 12\n",
      "The diameter of sphere with diameter of 12cm is 904.779cm3.\n"
     ]
    }
   ],
   "source": [
    "from math import pi\n",
    "d = int ( input ( \"Enter the diameter: \" ) )\n",
    "print ( \"The diameter of sphere with diameter of {}cm is {}cm3.\" .format ( diameter , \n",
    "                                                                              round ( 4 / 3 * pi * ( d / 2 ) ** 3 , 3 ) ) ) "
   ]
  },
  {
   "cell_type": "code",
   "execution_count": null,
   "metadata": {},
   "outputs": [],
   "source": []
  }
 ],
 "metadata": {
  "kernelspec": {
   "display_name": "Python 3",
   "language": "python",
   "name": "python3"
  },
  "language_info": {
   "codemirror_mode": {
    "name": "ipython",
    "version": 3
   },
   "file_extension": ".py",
   "mimetype": "text/x-python",
   "name": "python",
   "nbconvert_exporter": "python",
   "pygments_lexer": "ipython3",
   "version": "3.7.3"
  }
 },
 "nbformat": 4,
 "nbformat_minor": 2
}
