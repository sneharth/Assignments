{
 "cells": [
  {
   "cell_type": "markdown",
   "metadata": {},
   "source": [
    " ### 1.1 Write a Python Program(with class concepts) to find the area of the triangle using the below formula.\n",
    "#### area = (s*(s-a)*(s-b)*(s-c)) ** 0.5\n",
    "#### Function to take the length of the sides of triangle from user should be defined in the parentclass and function to calculate the area should be defined in subclass."
   ]
  },
  {
   "cell_type": "code",
   "execution_count": 19,
   "metadata": {},
   "outputs": [
    {
     "name": "stdout",
     "output_type": "stream",
     "text": [
      "Enter the perimeter: 26\n",
      "Enter the side: 7\n",
      "Enter the side: 10\n",
      "Enter the side: 9\n",
      "The area of triangle is: 17.4928556845359\n"
     ]
    }
   ],
   "source": [
    "class Dimensions:\n",
    "    def __init__ ( self , a , b , c , s ):\n",
    "        self.a = a\n",
    "        self.b = b\n",
    "        self.c = c\n",
    "        self.s = s\n",
    "class Area ( Dimensions ):\n",
    "    def __init__ ( self , *args ):\n",
    "        super ( Area , self ).__init__ ( *args )\n",
    "    def __str__ ( self , *args ):\n",
    "        return \"The area of triangle is: {}\" .format ( ( self.s * ( self.s - self.a ) * \n",
    "                                                  ( self.s - self.b ) * ( self.s - self.c ) ) ** 0.5 )\n",
    "s = int ( input ( \"Enter the perimeter: \" ) )\n",
    "a = int ( input ( \"Enter the side: \" ) )\n",
    "b = int ( input ( \"Enter the side: \" ) )\n",
    "c = int ( input ( \"Enter the side: \" ) )\n",
    "area = Area ( a , b , c , s )\n",
    "print ( area )"
   ]
  },
  {
   "cell_type": "markdown",
   "metadata": {},
   "source": [
    "### 1.2 Write a function filter_long_words() that takes a list of words and an integer n and returns the list of words that are longer than n."
   ]
  },
  {
   "cell_type": "code",
   "execution_count": 32,
   "metadata": {},
   "outputs": [
    {
     "name": "stdout",
     "output_type": "stream",
     "text": [
      "Enter the number of words: 5\n",
      "Enter your word: Cat\n",
      "Enter your word: Prime\n",
      "Enter your word: Cricketer\n",
      "Enter your word: Data\n",
      "Enter your word: Twitter\n",
      "Enter the length of words: 5\n"
     ]
    },
    {
     "data": {
      "text/plain": [
       "['Prime', 'Cricketer', 'Twitter']"
      ]
     },
     "execution_count": 32,
     "metadata": {},
     "output_type": "execute_result"
    }
   ],
   "source": [
    "def filter_long_words ( n , args ):\n",
    "    for i in args:\n",
    "        if len ( i ) < n:\n",
    "            args.remove ( i )\n",
    "    return args\n",
    "n = int ( input ( \"Enter the number of words: \" ) )\n",
    "words = [ ]\n",
    "for i in range ( n ):\n",
    "    w = input ( \"Enter your word: \" )\n",
    "    words.append ( w )\n",
    "limit = int ( input ( \"Enter the length of words: \" ) )\n",
    "filter_long_words ( limit , words )"
   ]
  },
  {
   "cell_type": "markdown",
   "metadata": {},
   "source": [
    "### 2.1 Write a Python program using function concept that maps list of words into a list of integers representing the lengths of the corresponding words.\n",
    "Hint: If a list [ ab,cde,erty] is passed on to the python function output should come as [2,3,4]\n",
    "Here 2,3 and 4 are the lengths of the words in the list."
   ]
  },
  {
   "cell_type": "code",
   "execution_count": 38,
   "metadata": {},
   "outputs": [
    {
     "name": "stdout",
     "output_type": "stream",
     "text": [
      "Enter the number of words: 3\n",
      "Enter your word: Google\n",
      "Enter your word: Microsoft\n",
      "Enter your word: Facebook\n"
     ]
    },
    {
     "data": {
      "text/plain": [
       "[6, 9, 8]"
      ]
     },
     "execution_count": 38,
     "metadata": {},
     "output_type": "execute_result"
    }
   ],
   "source": [
    "def mapper ( words ):\n",
    "    l = [ ]\n",
    "    for i in words:\n",
    "        l.append ( len ( i ) )\n",
    "    return l\n",
    "n = int ( input ( \"Enter the number of words: \" ) )\n",
    "words = [ ]\n",
    "for i in range ( n ):\n",
    "    w = input ( \"Enter your word: \" )\n",
    "    words.append ( w )\n",
    "mapper ( words )"
   ]
  },
  {
   "cell_type": "markdown",
   "metadata": {},
   "source": [
    "### 2.2 Write a Python function which takes a character (i.e. a string of length 1) and returns True if it is a vowel, False otherwise."
   ]
  },
  {
   "cell_type": "code",
   "execution_count": 45,
   "metadata": {},
   "outputs": [
    {
     "name": "stdout",
     "output_type": "stream",
     "text": [
      "Enter the number of words: 5\n",
      "Enter the alphabet: m\n",
      "False\n",
      "Enter the alphabet: a\n",
      "True\n",
      "Enter the alphabet: p\n",
      "False\n",
      "Enter the alphabet: e\n",
      "True\n",
      "Enter the alphabet: r\n",
      "False\n"
     ]
    }
   ],
   "source": [
    "def vowel ( i ):\n",
    "    if i == \"a\" or i == \"e\" or i == \"i\" or i == \"o\" or i == \"u\":\n",
    "        print ( True )\n",
    "    else:\n",
    "        print ( False )\n",
    "n = int ( input ( \"Enter the number of words: \" ) )\n",
    "for i in range ( n ):\n",
    "    word = input ( \"Enter the alphabet: \" )\n",
    "    vowel ( word )"
   ]
  },
  {
   "cell_type": "code",
   "execution_count": null,
   "metadata": {},
   "outputs": [],
   "source": []
  }
 ],
 "metadata": {
  "kernelspec": {
   "display_name": "Python 3",
   "language": "python",
   "name": "python3"
  },
  "language_info": {
   "codemirror_mode": {
    "name": "ipython",
    "version": 3
   },
   "file_extension": ".py",
   "mimetype": "text/x-python",
   "name": "python",
   "nbconvert_exporter": "python",
   "pygments_lexer": "ipython3",
   "version": "3.7.3"
  }
 },
 "nbformat": 4,
 "nbformat_minor": 2
}
